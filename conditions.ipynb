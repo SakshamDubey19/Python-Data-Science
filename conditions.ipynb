{
 "cells": [
  {
   "cell_type": "markdown",
   "metadata": {},
   "source": [
    "condition\n",
    "-if\n",
    "-if else\n",
    "-if elif\n",
    "-match case\n",
    "\n",
    "if expr:\n",
    "    statement 1\n",
    "    statement 2\n",
    "    ....\n",
    "    statement n"
   ]
  },
  {
   "cell_type": "code",
   "execution_count": 4,
   "metadata": {},
   "outputs": [
    {
     "name": "stdout",
     "output_type": "stream",
     "text": [
      "sakasam\n"
     ]
    }
   ],
   "source": [
    "name = input('enter your name')\n",
    "if len(name)>=10:\n",
    "    print('you have a very big name')\n",
    "else:\n",
    "    print(name)"
   ]
  },
  {
   "cell_type": "code",
   "execution_count": 6,
   "metadata": {},
   "outputs": [
    {
     "name": "stdout",
     "output_type": "stream",
     "text": [
      "you have a very big name\n"
     ]
    }
   ],
   "source": [
    "name = input('enter your name')\n",
    "if len(name)>=10:\n",
    "    print('you have a very big name')\n",
    "if len(name)<=10:\n",
    "    print('standard name, nothing special')"
   ]
  },
  {
   "cell_type": "code",
   "execution_count": 8,
   "metadata": {},
   "outputs": [
    {
     "name": "stdout",
     "output_type": "stream",
     "text": [
      "even\n"
     ]
    }
   ],
   "source": [
    "num=int(input('enter a num:'))\n",
    "if num%2==0:\n",
    "    print('even')\n",
    "else:\n",
    "    print('odd')"
   ]
  },
  {
   "cell_type": "code",
   "execution_count": 12,
   "metadata": {},
   "outputs": [
    {
     "name": "stdout",
     "output_type": "stream",
     "text": [
      "who are you?\n"
     ]
    }
   ],
   "source": [
    "username = input('enter username')\n",
    "password = input('enter a pass')\n",
    "if username =='admin' and password == 'admin':\n",
    "    print('welcome')\n",
    "else:\n",
    "    print('who are you?')"
   ]
  },
  {
   "cell_type": "code",
   "execution_count": 13,
   "metadata": {},
   "outputs": [
    {
     "name": "stdout",
     "output_type": "stream",
     "text": [
      "fail ! better luck next time\n"
     ]
    }
   ],
   "source": [
    "# If-Elif ladder\n",
    "\n",
    "marks = int(input('enter your marks:'))\n",
    "if marks>85:\n",
    "    print('nice you have got A')\n",
    "elif marks>70:\n",
    "    print('good you have got B Grade')\n",
    "elif marks>=50:\n",
    "    print('you are passed with C Grade')\n",
    "else:\n",
    "    print('fail ! better luck next time')"
   ]
  },
  {
   "cell_type": "code",
   "execution_count": 16,
   "metadata": {},
   "outputs": [
    {
     "name": "stdout",
     "output_type": "stream",
     "text": [
      "welcome user 2345!\n"
     ]
    }
   ],
   "source": [
    "# Nested Condition\n",
    "\n",
    "username = input('username')\n",
    "password = input('password')\n",
    "if username !='':\n",
    "    if username == 'admin':\n",
    "        if password == 'admin':\n",
    "            print('welcome user 2345!')\n",
    "        else:\n",
    "            print('password do not match')\n",
    "    else:\n",
    "        print('username does not exist')\n",
    "else:\n",
    "    print('credentials does not match')"
   ]
  },
  {
   "cell_type": "code",
   "execution_count": null,
   "metadata": {},
   "outputs": [],
   "source": [
    "# Matchcase\n",
    "\n",
    "age=int(input('enter your age:'))\n",
    "match age:\n",
    "    case 1:\n",
    "        print('you are young')\n",
    "    case 10:\n",
    "        print('you should go and play')\n",
    "    case 20:\n",
    "        print('your are teenager')\n",
    "    case 30:\n",
    "        print('you are an adult')\n",
    "    case _:\n",
    "        print('you ara not worthy')"
   ]
  }
 ],
 "metadata": {
  "kernelspec": {
   "display_name": "Python 3",
   "language": "python",
   "name": "python3"
  },
  "language_info": {
   "codemirror_mode": {
    "name": "ipython",
    "version": 3
   },
   "file_extension": ".py",
   "mimetype": "text/x-python",
   "name": "python",
   "nbconvert_exporter": "python",
   "pygments_lexer": "ipython3",
   "version": "3.10.7"
  }
 },
 "nbformat": 4,
 "nbformat_minor": 2
}
