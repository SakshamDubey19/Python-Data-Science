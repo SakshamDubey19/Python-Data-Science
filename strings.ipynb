{
 "cells": [
  {
   "cell_type": "markdown",
   "metadata": {},
   "source": [
    "STRINGS\n",
    "\n",
    "- creation\n",
    "- indexing and slicing\n",
    "- methods"
   ]
  },
  {
   "cell_type": "code",
   "execution_count": 1,
   "metadata": {},
   "outputs": [
    {
     "name": "stdout",
     "output_type": "stream",
     "text": [
      "<class 'str'>\n"
     ]
    }
   ],
   "source": [
    "# single quoted\n",
    "a='apple'\n",
    "print(type(a))"
   ]
  },
  {
   "cell_type": "code",
   "execution_count": 2,
   "metadata": {},
   "outputs": [
    {
     "name": "stdout",
     "output_type": "stream",
     "text": [
      "<class 'str'>\n"
     ]
    }
   ],
   "source": [
    "#double quoted\n",
    "b=\"big apple\"\n",
    "print(type(b))"
   ]
  },
  {
   "cell_type": "code",
   "execution_count": 3,
   "metadata": {},
   "outputs": [
    {
     "name": "stdout",
     "output_type": "stream",
     "text": [
      "<class 'str'>\n"
     ]
    }
   ],
   "source": [
    "# Tripple quoted\n",
    "c='''hello my name is \n",
    "saksham how are you'''\n",
    "print(type(c))"
   ]
  },
  {
   "cell_type": "markdown",
   "metadata": {},
   "source": [
    "TYPES OF STRING\n",
    "- byte   b'hello'\n",
    "- raw    r'hello'\n",
    "- format f'hello{a}'\n"
   ]
  },
  {
   "cell_type": "code",
   "execution_count": 4,
   "metadata": {},
   "outputs": [
    {
     "name": "stdout",
     "output_type": "stream",
     "text": [
      "b'this is a string'\n",
      "this is \\n\\n\\n a byte string\n",
      "apple is a value\n"
     ]
    }
   ],
   "source": [
    "print(b'this is a string')\n",
    "print(r'this is \\n\\n\\n a byte string')\n",
    "print(f'{a} is a value')"
   ]
  },
  {
   "cell_type": "markdown",
   "metadata": {},
   "source": [
    "# INDEXING\n",
    "   -5  -4  -3  -2  -1\n",
    "   a    p   p   l   e\n",
    "   e    1   2   3   4\n",
    "\n"
   ]
  },
  {
   "cell_type": "code",
   "execution_count": 5,
   "metadata": {},
   "outputs": [
    {
     "name": "stdout",
     "output_type": "stream",
     "text": [
      "G\n",
      "r\n",
      "e\n",
      "e\n",
      "k\n"
     ]
    }
   ],
   "source": [
    "word = 'Greek'\n",
    "print(word[0])\n",
    "print(word[1])\n",
    "print(word[2])\n",
    "print(word[-2])\n",
    "print(word[-1])\n"
   ]
  },
  {
   "cell_type": "code",
   "execution_count": 6,
   "metadata": {},
   "outputs": [
    {
     "name": "stdout",
     "output_type": "stream",
     "text": [
      "d\n",
      "n\n",
      "journey\n"
     ]
    }
   ],
   "source": [
    "msg=\"journey before destination\"\n",
    "print(msg[15])\n",
    "print(msg[-6])\n",
    "print(msg[0]+msg[1]+msg[2]+msg[3]+msg[4]+msg[5]+msg[6])"
   ]
  },
  {
   "cell_type": "markdown",
   "metadata": {},
   "source": [
    "SLICING\n",
    "\n",
    "sequence[start : stop]\n"
   ]
  },
  {
   "cell_type": "markdown",
   "metadata": {},
   "source": [
    "sequence[start : stop : step]"
   ]
  },
  {
   "cell_type": "markdown",
   "metadata": {},
   "source": []
  },
  {
   "cell_type": "code",
   "execution_count": 7,
   "metadata": {},
   "outputs": [
    {
     "name": "stdout",
     "output_type": "stream",
     "text": [
      "journey\n",
      "destination\n"
     ]
    }
   ],
   "source": [
    "print(msg[0:7])\n",
    "print(msg[15:])"
   ]
  },
  {
   "cell_type": "code",
   "execution_count": 8,
   "metadata": {},
   "outputs": [
    {
     "name": "stdout",
     "output_type": "stream",
     "text": [
      "vijay\n",
      "dinanath\n",
      "chauhan\n"
     ]
    }
   ],
   "source": [
    "name = 'vijay dinanath chauhan'\n",
    "fname= name[:5]\n",
    "mname= name[6:-8]\n",
    "lname = name[-7:]\n",
    "print(fname)\n",
    "print(mname)\n",
    "print(lname)\n",
    "\n"
   ]
  },
  {
   "cell_type": "code",
   "execution_count": 9,
   "metadata": {},
   "outputs": [
    {
     "name": "stdout",
     "output_type": "stream",
     "text": [
      "nahuahc htananid yajiv\n"
     ]
    }
   ],
   "source": [
    "#reverse\n",
    "print(name[::-1])\n",
    "\n"
   ]
  },
  {
   "cell_type": "code",
   "execution_count": 10,
   "metadata": {},
   "outputs": [
    {
     "name": "stdout",
     "output_type": "stream",
     "text": [
      "covert it into float\n",
      "5599.25 \n",
      "5599.25\n"
     ]
    }
   ],
   "source": [
    "x=\"$5599.25 only\"\n",
    "print('covert it into float')\n",
    "print(x[1:-4])\n",
    "print(float(x[1:-4]))"
   ]
  },
  {
   "cell_type": "markdown",
   "metadata": {},
   "source": [
    "- Utility function\n",
    "    - split()\n",
    "    - join()\n",
    "    - find()\n",
    "    - replace()\n",
    "    - rfind()\n",
    "    - index()\n",
    "    - count()\n",
    "    - strip()"
   ]
  },
  {
   "cell_type": "code",
   "execution_count": 11,
   "metadata": {},
   "outputs": [
    {
     "data": {
      "text/plain": [
       "6"
      ]
     },
     "execution_count": 11,
     "metadata": {},
     "output_type": "execute_result"
    }
   ],
   "source": [
    "sentence = 'all the glitter is not gold'\n",
    "len(sentence.split())"
   ]
  },
  {
   "cell_type": "markdown",
   "metadata": {},
   "source": [
    "- SPLIT()\n"
   ]
  },
  {
   "cell_type": "code",
   "execution_count": 12,
   "metadata": {},
   "outputs": [
    {
     "name": "stdout",
     "output_type": "stream",
     "text": [
      "all\n",
      "the\n",
      "glitter\n",
      "is\n",
      "not\n",
      "gold\n"
     ]
    }
   ],
   "source": [
    "words = sentence.split()\n",
    "for word in words:\n",
    "    print(word)"
   ]
  },
  {
   "cell_type": "code",
   "execution_count": 13,
   "metadata": {},
   "outputs": [
    {
     "data": {
      "text/plain": [
       "['jhony jhony yes papa,',\n",
       " 'eating sugar no papa,',\n",
       " 'telling lie no papa,',\n",
       " 'open your mouth, ha! ha! ha!']"
      ]
     },
     "execution_count": 13,
     "metadata": {},
     "output_type": "execute_result"
    }
   ],
   "source": [
    "poem = '''jhony jhony yes papa,\n",
    "eating sugar no papa,\n",
    "telling lie no papa,\n",
    "open your mouth, ha! ha! ha!\n",
    "'''\n",
    "poem.splitlines()\n"
   ]
  },
  {
   "cell_type": "markdown",
   "metadata": {},
   "source": [
    "- JOIN()"
   ]
  },
  {
   "cell_type": "code",
   "execution_count": 14,
   "metadata": {},
   "outputs": [
    {
     "name": "stdout",
     "output_type": "stream",
     "text": [
      "C://users//saksham//download//file.txt\n"
     ]
    }
   ],
   "source": [
    "addr = ['C:', 'users', 'saksham','download','file.txt']\n",
    "full_addr= '//'.join(addr)\n",
    "print(full_addr)"
   ]
  },
  {
   "cell_type": "markdown",
   "metadata": {},
   "source": [
    "[Q]: Wap to count all even sized words in a string enter by user"
   ]
  },
  {
   "cell_type": "code",
   "execution_count": 15,
   "metadata": {},
   "outputs": [],
   "source": [
    "sentence = input('enter a sentnece')\n",
    "words = sentence.split()\n",
    "total = 0\n",
    "for word in words:\n",
    "    size = len(word)\n",
    "    if size%2==0:                           # for odd size!=0\n",
    "        total +=1\n",
    "print(total)\n",
    "        \n"
   ]
  },
  {
   "cell_type": "markdown",
   "metadata": {},
   "source": [
    "- FIND() And INDEX()"
   ]
  },
  {
   "cell_type": "code",
   "execution_count": null,
   "metadata": {},
   "outputs": [],
   "source": [
    "a= 'this is a message'\n",
    "print(a.find('is'))\n",
    "print(a.find('mess'))\n",
    "print(a.find('are'))\n",
    "# index is same as find but it throws an error if not found\n",
    "print(a.index('is'))\\\n",
    "print(a.index('is',3))   # start from index 3\n",
    "print(a.index('are')) #error"
   ]
  },
  {
   "cell_type": "markdown",
   "metadata": {},
   "source": [
    "- REPLACE()"
   ]
  },
  {
   "cell_type": "code",
   "execution_count": null,
   "metadata": {},
   "outputs": [],
   "source": [
    "a= 'this is a message'\n",
    "\n",
    "b= a.replace('is','was')\n",
    "print(b)\n",
    "c=b.replace('message','letter').replace('was','is')\n",
    "print(c)\n",
    "d= c.replace('t','k',2)                     # replace only first 2 occurances\n",
    "print(d)"
   ]
  },
  {
   "cell_type": "code",
   "execution_count": null,
   "metadata": {},
   "outputs": [],
   "source": [
    "# Replace as remove\n",
    "\n",
    "data = 'he!!!!!llo!'\n",
    "data.replace('!','')"
   ]
  },
  {
   "cell_type": "markdown",
   "metadata": {},
   "source": [
    "[Q] Wap to remove all the vowels from a string\n"
   ]
  },
  {
   "cell_type": "code",
   "execution_count": 9,
   "metadata": {},
   "outputs": [
    {
     "name": "stdout",
     "output_type": "stream",
     "text": [
      "h\n"
     ]
    }
   ],
   "source": [
    "sentence = input('enter a sentence')\n",
    "b= sentence.replace('a','').replace('e','').replace('i','').replace('o','').replace('u','')\n",
    "print(b)"
   ]
  },
  {
   "cell_type": "markdown",
   "metadata": {},
   "source": [
    "- COUNT()\n"
   ]
  },
  {
   "cell_type": "code",
   "execution_count": 10,
   "metadata": {},
   "outputs": [
    {
     "name": "stdout",
     "output_type": "stream",
     "text": [
      "3\n",
      "2\n"
     ]
    }
   ],
   "source": [
    "msg = 'one of the tie there was one one two two thre theee five'\n",
    "print(msg.count('one'))\n",
    "print(msg.count('two'))"
   ]
  },
  {
   "cell_type": "markdown",
   "metadata": {},
   "source": [
    "- STRIP()"
   ]
  },
  {
   "cell_type": "code",
   "execution_count": 11,
   "metadata": {},
   "outputs": [
    {
     "name": "stdout",
     "output_type": "stream",
     "text": [
      "11 alex mercer\n",
      "11 alex mercer\n"
     ]
    }
   ],
   "source": [
    "name = 'alex mercer'\n",
    "print(len(name), name)\n",
    "clean_name= name.strip()     # strip is used to remove the spaces from the starting and ending sentence\n",
    "print(len(clean_name), clean_name)"
   ]
  },
  {
   "cell_type": "markdown",
   "metadata": {},
   "source": []
  },
  {
   "cell_type": "markdown",
   "metadata": {},
   "source": [
    "[Q] Display the data after removing all leading and trailing spaces and making it upper case\n",
    "\n"
   ]
  },
  {
   "cell_type": "code",
   "execution_count": 12,
   "metadata": {},
   "outputs": [
    {
     "name": "stdout",
     "output_type": "stream",
     "text": [
      "john\n",
      "alex\n",
      "jane\n",
      "alexa\n",
      "jacob\n"
     ]
    }
   ],
   "source": [
    "names = [\n",
    "    'john',\n",
    "    'alex',\n",
    "    'jane',\n",
    "    'alexa',\n",
    "    'jacob',\n",
    "]\n",
    "for i in names:\n",
    "    print(i.strip())\n"
   ]
  }
 ],
 "metadata": {
  "kernelspec": {
   "display_name": "Python 3",
   "language": "python",
   "name": "python3"
  },
  "language_info": {
   "codemirror_mode": {
    "name": "ipython",
    "version": 3
   },
   "file_extension": ".py",
   "mimetype": "text/x-python",
   "name": "python",
   "nbconvert_exporter": "python",
   "pygments_lexer": "ipython3",
   "version": "3.10.7"
  }
 },
 "nbformat": 4,
 "nbformat_minor": 2
}
