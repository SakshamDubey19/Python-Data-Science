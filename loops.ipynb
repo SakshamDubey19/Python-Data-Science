{
 "cells": [
  {
   "cell_type": "markdown",
   "metadata": {},
   "source": [
    "Loops in Python\n",
    "\n",
    "1. for loop -> step based loop\n",
    "2. while loop -> condition based loop\n",
    "\n",
    "Syntax:\n",
    " \n",
    " for temp in iteraable:\n",
    "            #code block\n",
    "while condition:\n",
    "            #code block\n",
    "\n",
    "\n",
    "iterable is any object that has children/items to iterable over\n",
    "\n",
    "string\n",
    "\n",
    "list\n",
    "\n",
    "tuple\n",
    "\n",
    "set\n",
    "\n",
    "dictionary\n",
    "\n",
    "generator\n",
    "\n",
    "range()\n",
    "\n",
    "loop control\n",
    "\n",
    "break\n",
    "continue\n",
    "enumerate()\n",
    "\n",
    "zip()\n",
    "\n",
    "for-else, while-else"
   ]
  },
  {
   "cell_type": "code",
   "execution_count": null,
   "metadata": {},
   "outputs": [],
   "source": [
    "list(range(10))"
   ]
  },
  {
   "cell_type": "code",
   "execution_count": 1,
   "metadata": {},
   "outputs": [
    {
     "name": "stdout",
     "output_type": "stream",
     "text": [
      "0\n",
      "1\n",
      "2\n",
      "3\n",
      "4\n"
     ]
    }
   ],
   "source": [
    "for i in range(5):\n",
    "    print(i)"
   ]
  },
  {
   "cell_type": "code",
   "execution_count": 2,
   "metadata": {},
   "outputs": [
    {
     "name": "stdout",
     "output_type": "stream",
     "text": [
      "10\n",
      "11\n",
      "12\n",
      "13\n",
      "14\n",
      "15\n",
      "16\n",
      "17\n",
      "18\n",
      "19\n"
     ]
    }
   ],
   "source": [
    "for i in range(10,20):\n",
    "    print(i)"
   ]
  },
  {
   "cell_type": "code",
   "execution_count": 3,
   "metadata": {},
   "outputs": [
    {
     "name": "stdout",
     "output_type": "stream",
     "text": [
      "1,3,5,7,9,"
     ]
    }
   ],
   "source": [
    "for i in range(1,11,2):\n",
    "    print(i,end=',')"
   ]
  },
  {
   "cell_type": "code",
   "execution_count": 4,
   "metadata": {},
   "outputs": [
    {
     "name": "stdout",
     "output_type": "stream",
     "text": [
      "5,4,3,2,1,0,-1,-2,-3,-4,-5,"
     ]
    }
   ],
   "source": [
    "for i in range(5,-6,-1):\n",
    "    print(i,end=',')"
   ]
  },
  {
   "cell_type": "code",
   "execution_count": 5,
   "metadata": {},
   "outputs": [
    {
     "name": "stdout",
     "output_type": "stream",
     "text": [
      "=> d\n",
      "=> i\n",
      "=> g\n",
      "=> i\n",
      "=> p\n",
      "=> o\n",
      "=> d\n",
      "=> i\n",
      "=> u\n",
      "=> m\n"
     ]
    }
   ],
   "source": [
    "word='digipodium'\n",
    "for char in word:\n",
    "    print('=>',char)"
   ]
  },
  {
   "cell_type": "code",
   "execution_count": 6,
   "metadata": {},
   "outputs": [
    {
     "name": "stdout",
     "output_type": "stream",
     "text": [
      "p\n",
      "y\n",
      "t\n",
      "h\n",
      "o\n",
      "n\n"
     ]
    }
   ],
   "source": [
    "data='p_y@!t@h#on'\n",
    "for i in data:\n",
    "    if i.isalpha():\n",
    "        print(i)"
   ]
  },
  {
   "cell_type": "code",
   "execution_count": 9,
   "metadata": {},
   "outputs": [
    {
     "name": "stdout",
     "output_type": "stream",
     "text": [
      "-25\n",
      "-20\n",
      "-15\n",
      "-10\n",
      "-5\n",
      "0\n",
      "5\n",
      "10\n",
      "15\n",
      "20\n",
      "25\n"
     ]
    }
   ],
   "source": [
    "nums= [-5,-4,-3,-2,-1,0,1,2,3,4,5]\n",
    "for i in nums:\n",
    "    print(i * 5)"
   ]
  },
  {
   "cell_type": "code",
   "execution_count": 10,
   "metadata": {},
   "outputs": [
    {
     "name": "stdout",
     "output_type": "stream",
     "text": [
      "apple 9\n",
      "banana 9\n",
      "cherry 9\n",
      "dragonfruit 9\n",
      "eggplant 9\n",
      "fig 9\n",
      "gauva 9\n",
      "honeydew 9\n",
      "imli 9\n"
     ]
    }
   ],
   "source": [
    "fruits = ['apple', 'banana', 'cherry', 'dragonfruit',\n",
    "        'eggplant', 'fig', 'gauva', 'honeydew', 'imli']\n",
    "for i in fruits:\n",
    "    print(i,len(fruits))"
   ]
  },
  {
   "cell_type": "code",
   "execution_count": 11,
   "metadata": {},
   "outputs": [
    {
     "name": "stdout",
     "output_type": "stream",
     "text": [
      "apple\n",
      "banana\n",
      "cherry\n",
      "dragonfruit\n",
      "eggplant\n",
      "loop completed\n"
     ]
    }
   ],
   "source": [
    "for i in fruits:\n",
    "    if i== 'fig':\n",
    "        break\n",
    "    print(i)\n",
    "print('loop completed')"
   ]
  },
  {
   "cell_type": "code",
   "execution_count": 13,
   "metadata": {},
   "outputs": [
    {
     "name": "stdout",
     "output_type": "stream",
     "text": [
      "134\n"
     ]
    }
   ],
   "source": [
    "nums = [10,30,65,29]\n",
    "total = 0\n",
    "for i in nums:\n",
    "    total+=i\n",
    "print(total)"
   ]
  },
  {
   "cell_type": "code",
   "execution_count": 14,
   "metadata": {},
   "outputs": [
    {
     "name": "stdout",
     "output_type": "stream",
     "text": [
      "286\n"
     ]
    }
   ],
   "source": [
    "nums = [120, -20, 10, 40, 101, -50, 15]\n",
    "total = 0\n",
    "for i in nums:\n",
    "    if i<0:\n",
    "        continue\n",
    "    total+=i\n",
    "print(total)"
   ]
  },
  {
   "cell_type": "markdown",
   "metadata": {},
   "source": [
    "Enumerate"
   ]
  },
  {
   "cell_type": "code",
   "execution_count": 2,
   "metadata": {},
   "outputs": [
    {
     "name": "stdout",
     "output_type": "stream",
     "text": [
      "saksham,\n",
      "harsh\n",
      "anuj\n",
      "ritik\n"
     ]
    }
   ],
   "source": [
    "names=['saksham,','harsh','anuj','ritik']\n",
    "for i in names:\n",
    "    print(i)"
   ]
  },
  {
   "cell_type": "code",
   "execution_count": 4,
   "metadata": {},
   "outputs": [
    {
     "name": "stdout",
     "output_type": "stream",
     "text": [
      "0 saksham,\n",
      "1 harsh\n",
      "2 anuj\n",
      "3 ritik\n"
     ]
    }
   ],
   "source": [
    "for i,v in enumerate(names):\n",
    "    print(i,v)"
   ]
  },
  {
   "cell_type": "code",
   "execution_count": 6,
   "metadata": {},
   "outputs": [
    {
     "name": "stdout",
     "output_type": "stream",
     "text": [
      "saksham,\n",
      "harsh\n",
      "anuj\n"
     ]
    }
   ],
   "source": [
    "for i,v in enumerate(names):\n",
    "    if i==3:\n",
    "        break\n",
    "    print(v)"
   ]
  },
  {
   "cell_type": "code",
   "execution_count": 10,
   "metadata": {},
   "outputs": [
    {
     "name": "stdout",
     "output_type": "stream",
     "text": [
      "ryueio\n",
      "hruei\n"
     ]
    }
   ],
   "source": [
    "for i,v in enumerate(names):\n",
    "    if i%2 != 0:\n",
    "        print(v)"
   ]
  },
  {
   "cell_type": "code",
   "execution_count": 11,
   "metadata": {},
   "outputs": [
    {
     "name": "stdout",
     "output_type": "stream",
     "text": [
      "ghrjfdc\n",
      "bvncm\n",
      "rujfn\n"
     ]
    }
   ],
   "source": [
    "for i,v in enumerate(names):\n",
    "    if i%2 == 0:\n",
    "        print(v)"
   ]
  },
  {
   "cell_type": "markdown",
   "metadata": {},
   "source": [
    "ZIP"
   ]
  },
  {
   "cell_type": "code",
   "execution_count": 12,
   "metadata": {},
   "outputs": [
    {
     "name": "stdout",
     "output_type": "stream",
     "text": [
      "(1, 6)\n",
      "(2, 7)\n",
      "(3, 8)\n",
      "(4, 9)\n",
      "(5, 10)\n"
     ]
    }
   ],
   "source": [
    "x =[1,2,3,4,5]\n",
    "y=[6,7,8,9,10]\n",
    "for value in zip(x,y):\n",
    "    print(value)\n",
    "\n"
   ]
  },
  {
   "cell_type": "code",
   "execution_count": 13,
   "metadata": {},
   "outputs": [
    {
     "name": "stdout",
     "output_type": "stream",
     "text": [
      "1 6\n",
      "2 7\n",
      "3 8\n",
      "4 9\n",
      "5 10\n"
     ]
    }
   ],
   "source": [
    "x =[1,2,3,4,5]\n",
    "y=[6,7,8,9,10]\n",
    "for i,j in zip(x,y):\n",
    "    print(i,j)\n",
    "\n"
   ]
  },
  {
   "cell_type": "code",
   "execution_count": 14,
   "metadata": {},
   "outputs": [
    {
     "name": "stdout",
     "output_type": "stream",
     "text": [
      "1 6 7\n",
      "2 7 9\n",
      "3 8 11\n",
      "4 9 13\n",
      "5 10 15\n"
     ]
    }
   ],
   "source": [
    "x =[1,2,3,4,5]\n",
    "y=[6,7,8,9,10]\n",
    "\n",
    "for i,j in zip(x,y):\n",
    "    print(i,j,i+j)\n",
    "    \n"
   ]
  },
  {
   "cell_type": "code",
   "execution_count": 17,
   "metadata": {},
   "outputs": [
    {
     "name": "stdout",
     "output_type": "stream",
     "text": [
      "147=12\n",
      "258=15\n",
      "369=18\n"
     ]
    }
   ],
   "source": [
    "a=[1,2,3]\n",
    "b=[4,5,6]\n",
    "c=[7,8,9]\n",
    "\n",
    "for i,j,k in zip(a,b,c):\n",
    "    print(f'{i}{j}{k}={i+j+k}')"
   ]
  },
  {
   "cell_type": "code",
   "execution_count": 21,
   "metadata": {},
   "outputs": [
    {
     "name": "stdout",
     "output_type": "stream",
     "text": [
      "apple                100  3   300\n",
      "banana               200  2   400\n",
      "cherry               300  5  1500\n",
      "______________________________\n",
      "2200\n"
     ]
    }
   ],
   "source": [
    "name=['apple','banana','cherry']\n",
    "price=[100,200,300]\n",
    "qty= [3,2,5]\n",
    "total=0\n",
    "for n,p,q in zip(name,price,qty):\n",
    "    print(f'{n:20}{p:^5}{q:^3}{p*q:>5}')\n",
    "    total+=p*q\n",
    "print('_'*30)\n",
    "print(total)"
   ]
  },
  {
   "cell_type": "code",
   "execution_count": 9,
   "metadata": {},
   "outputs": [
    {
     "name": "stdout",
     "output_type": "stream",
     "text": [
      "> 5%2==False\n",
      "> 5%3==False\n",
      "> 5%4==False\n",
      "prime\n"
     ]
    }
   ],
   "source": [
    "#prime number\n",
    "n=int(input('enter a number'))\n",
    "for i in range(2\n",
    "               ,n):\n",
    "    print(f'> {n}%{i}=={n%i==0}')\n",
    "    if n%i==0:\n",
    "        print('not prime')\n",
    "        break\n",
    "else:\n",
    "    print('prime')\n"
   ]
  }
 ],
 "metadata": {
  "kernelspec": {
   "display_name": "Python 3",
   "language": "python",
   "name": "python3"
  },
  "language_info": {
   "codemirror_mode": {
    "name": "ipython",
    "version": 3
   },
   "file_extension": ".py",
   "mimetype": "text/x-python",
   "name": "python",
   "nbconvert_exporter": "python",
   "pygments_lexer": "ipython3",
   "version": "3.10.7"
  }
 },
 "nbformat": 4,
 "nbformat_minor": 2
}
