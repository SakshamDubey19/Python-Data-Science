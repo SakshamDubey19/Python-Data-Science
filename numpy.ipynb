{
 "cells": [
  {
   "cell_type": "code",
   "execution_count": 5,
   "metadata": {},
   "outputs": [],
   "source": [
    "import numpy as np\n"
   ]
  },
  {
   "cell_type": "markdown",
   "metadata": {},
   "source": [
    "- create\n",
    "- basic operation\n",
    "- math operation\n",
    "- indexing and slicing\n",
    "- boolean filter"
   ]
  },
  {
   "cell_type": "code",
   "execution_count": 6,
   "metadata": {},
   "outputs": [
    {
     "name": "stdout",
     "output_type": "stream",
     "text": [
      "[1 2 3 4 5]\n"
     ]
    }
   ],
   "source": [
    "a = np.array([1,2,3,4,5])\n",
    "print(a)"
   ]
  },
  {
   "cell_type": "code",
   "execution_count": 10,
   "metadata": {},
   "outputs": [
    {
     "name": "stdout",
     "output_type": "stream",
     "text": [
      "[[0 1 2 3 4 5 6 7 8 9]\n",
      " [0 1 2 3 4 5 6 7 8 9]\n",
      " [0 1 2 3 4 5 6 7 8 9]\n",
      " [0 1 2 3 4 5 6 7 8 9]\n",
      " [0 1 2 3 4 5 6 7 8 9]\n",
      " [0 1 2 3 4 5 6 7 8 9]\n",
      " [0 1 2 3 4 5 6 7 8 9]\n",
      " [0 1 2 3 4 5 6 7 8 9]\n",
      " [0 1 2 3 4 5 6 7 8 9]\n",
      " [0 1 2 3 4 5 6 7 8 9]]\n",
      "(10, 10)\n"
     ]
    }
   ],
   "source": [
    "z = [0,1,2,3,4,5,6,7,8,9]\n",
    "nz = np.array([z]*10)\n",
    "print(nz)\n",
    "print(nz.shape)"
   ]
  },
  {
   "cell_type": "markdown",
   "metadata": {},
   "source": [
    "- random\n",
    "- arrange\n",
    "- linspace"
   ]
  },
  {
   "cell_type": "code",
   "execution_count": 11,
   "metadata": {},
   "outputs": [
    {
     "data": {
      "text/plain": [
       "array([[0.70939917, 0.2995897 , 0.08059566],\n",
       "       [0.78597057, 0.46087205, 0.39691511],\n",
       "       [0.01199482, 0.24506251, 0.58614018]])"
      ]
     },
     "execution_count": 11,
     "metadata": {},
     "output_type": "execute_result"
    }
   ],
   "source": [
    "np.random.rand(3,3)"
   ]
  },
  {
   "cell_type": "code",
   "execution_count": 12,
   "metadata": {},
   "outputs": [
    {
     "name": "stdout",
     "output_type": "stream",
     "text": [
      "[[-5  2  3  4 -4]\n",
      " [-4 -3  0 -2  4]\n",
      " [-5  3 -3  2  1]\n",
      " [ 3 -1 -4  0  3]\n",
      " [-1  3 -4  3  0]]\n"
     ]
    }
   ],
   "source": [
    "r1 = np.random.randint(-5,6, (5,5))\n",
    "print(r1)"
   ]
  },
  {
   "cell_type": "code",
   "execution_count": 13,
   "metadata": {},
   "outputs": [
    {
     "data": {
      "text/plain": [
       "array([ 0. ,  0.5,  1. ,  1.5,  2. ,  2.5,  3. ,  3.5,  4. ,  4.5,  5. ,\n",
       "        5.5,  6. ,  6.5,  7. ,  7.5,  8. ,  8.5,  9. ,  9.5, 10. , 10.5,\n",
       "       11. , 11.5, 12. , 12.5, 13. , 13.5, 14. , 14.5, 15. , 15.5, 16. ,\n",
       "       16.5, 17. , 17.5, 18. , 18.5, 19. , 19.5, 20. , 20.5, 21. , 21.5,\n",
       "       22. , 22.5, 23. , 23.5, 24. , 24.5, 25. , 25.5, 26. , 26.5, 27. ,\n",
       "       27.5, 28. , 28.5, 29. , 29.5, 30. , 30.5, 31. , 31.5, 32. , 32.5,\n",
       "       33. , 33.5, 34. , 34.5, 35. , 35.5, 36. , 36.5, 37. , 37.5, 38. ,\n",
       "       38.5, 39. , 39.5, 40. , 40.5, 41. , 41.5, 42. , 42.5, 43. , 43.5,\n",
       "       44. , 44.5, 45. , 45.5, 46. , 46.5, 47. , 47.5, 48. , 48.5, 49. ,\n",
       "       49.5])"
      ]
     },
     "execution_count": 13,
     "metadata": {},
     "output_type": "execute_result"
    }
   ],
   "source": [
    "#start, stop , gap\n",
    "np.arange(0,50, .5)"
   ]
  },
  {
   "cell_type": "code",
   "execution_count": 14,
   "metadata": {},
   "outputs": [
    {
     "data": {
      "text/plain": [
       "array([ 0.        ,  0.50505051,  1.01010101,  1.51515152,  2.02020202,\n",
       "        2.52525253,  3.03030303,  3.53535354,  4.04040404,  4.54545455,\n",
       "        5.05050505,  5.55555556,  6.06060606,  6.56565657,  7.07070707,\n",
       "        7.57575758,  8.08080808,  8.58585859,  9.09090909,  9.5959596 ,\n",
       "       10.1010101 , 10.60606061, 11.11111111, 11.61616162, 12.12121212,\n",
       "       12.62626263, 13.13131313, 13.63636364, 14.14141414, 14.64646465,\n",
       "       15.15151515, 15.65656566, 16.16161616, 16.66666667, 17.17171717,\n",
       "       17.67676768, 18.18181818, 18.68686869, 19.19191919, 19.6969697 ,\n",
       "       20.2020202 , 20.70707071, 21.21212121, 21.71717172, 22.22222222,\n",
       "       22.72727273, 23.23232323, 23.73737374, 24.24242424, 24.74747475,\n",
       "       25.25252525, 25.75757576, 26.26262626, 26.76767677, 27.27272727,\n",
       "       27.77777778, 28.28282828, 28.78787879, 29.29292929, 29.7979798 ,\n",
       "       30.3030303 , 30.80808081, 31.31313131, 31.81818182, 32.32323232,\n",
       "       32.82828283, 33.33333333, 33.83838384, 34.34343434, 34.84848485,\n",
       "       35.35353535, 35.85858586, 36.36363636, 36.86868687, 37.37373737,\n",
       "       37.87878788, 38.38383838, 38.88888889, 39.39393939, 39.8989899 ,\n",
       "       40.4040404 , 40.90909091, 41.41414141, 41.91919192, 42.42424242,\n",
       "       42.92929293, 43.43434343, 43.93939394, 44.44444444, 44.94949495,\n",
       "       45.45454545, 45.95959596, 46.46464646, 46.96969697, 47.47474747,\n",
       "       47.97979798, 48.48484848, 48.98989899, 49.49494949, 50.        ])"
      ]
     },
     "execution_count": 14,
     "metadata": {},
     "output_type": "execute_result"
    }
   ],
   "source": [
    "#start, stop , number_of_items\n",
    "np.linspace(0,50 , 100)"
   ]
  },
  {
   "cell_type": "markdown",
   "metadata": {},
   "source": [
    "ARRAY ATTRIBUTES\n",
    " - shape\n",
    " - dtype\n",
    " - ndim\n",
    " - size\n",
    "\n",
    "BASIC OPERATIONS\n",
    " - sum\n",
    " - mean\n",
    " - min\n",
    " - max\n",
    " - std\n",
    " - reshape\n",
    " - transpose\n",
    " - flatten"
   ]
  },
  {
   "cell_type": "code",
   "execution_count": 18,
   "metadata": {},
   "outputs": [
    {
     "name": "stdout",
     "output_type": "stream",
     "text": [
      "(3, 3)\n",
      "2\n",
      "float64\n",
      "9\n"
     ]
    }
   ],
   "source": [
    "z = np.random.rand(3,3)\n",
    "print(z.shape)\n",
    "print(z.ndim)\n",
    "print(z.dtype)\n",
    "print(z.size)\n"
   ]
  },
  {
   "cell_type": "code",
   "execution_count": 20,
   "metadata": {},
   "outputs": [
    {
     "name": "stdout",
     "output_type": "stream",
     "text": [
      "4.575539065908567\n",
      "[1.37435568 1.61165434 1.58952905]\n",
      "[2.08485904 2.49068003]\n",
      "0.7625898443180944\n",
      "0.9874343869832296\n",
      "0.4407947851927999\n",
      "0.2071052611159636\n",
      "0.04289258918191147\n"
     ]
    }
   ],
   "source": [
    "a = np.random.rand(2,3)\n",
    "print(a.sum())\n",
    "print(a.sum(axis=0))  # coloumn- wise\n",
    "print(a.sum(axis=1))  # Row-wise\n",
    "\n",
    "print(a.mean())\n",
    "print(a.max())\n",
    "print(a.min())\n",
    "print(a.std())\n",
    "print(a.var())"
   ]
  },
  {
   "cell_type": "code",
   "execution_count": 23,
   "metadata": {},
   "outputs": [
    {
     "name": "stdout",
     "output_type": "stream",
     "text": [
      "[[86 64 56 89 43]\n",
      " [29 41 39 81 59]\n",
      " [56 37 42 27 11]\n",
      " [51 68 58 73 64]\n",
      " [45 14 22 45 72]]\n",
      "transpose\n",
      "[[86 29 56 51 45]\n",
      " [64 41 37 68 14]\n",
      " [56 39 42 58 22]\n",
      " [89 81 27 73 45]\n",
      " [43 59 11 64 72]]\n",
      "[86 64 56 89 43 29 41 39 81 59 56 37 42 27 11 51 68 58 73 64 45 14 22 45\n",
      " 72]\n"
     ]
    }
   ],
   "source": [
    "z = np.random.randint(11,99, (5,5))\n",
    "print(z)\n",
    "print('transpose')\n",
    "print(z.transpose()) # or print(z.T)\n",
    "print(z.flatten())\n"
   ]
  },
  {
   "cell_type": "code",
   "execution_count": 25,
   "metadata": {},
   "outputs": [
    {
     "name": "stdout",
     "output_type": "stream",
     "text": [
      "[[9 6 6 2 1]\n",
      " [4 5 5 3 4]\n",
      " [7 9 3 6 6]\n",
      " [9 1 1 7 7]]\n",
      "[9 6 6 2 1 4 5 5 3 4 7 9 3 6 6 9 1 1 7 7]\n",
      "[[9 6 6 2 1]\n",
      " [4 5 5 3 4]\n",
      " [7 9 3 6 6]\n",
      " [9 1 1 7 7]]\n",
      "[[[9 6 6 2 1]\n",
      "  [4 5 5 3 4]]\n",
      "\n",
      " [[7 9 3 6 6]\n",
      "  [9 1 1 7 7]]]\n",
      "[[[9 6]\n",
      "  [6 2]\n",
      "  [1 4]\n",
      "  [5 5]\n",
      "  [3 4]]\n",
      "\n",
      " [[7 9]\n",
      "  [3 6]\n",
      "  [6 9]\n",
      "  [1 1]\n",
      "  [7 7]]]\n"
     ]
    }
   ],
   "source": [
    "a = np.random.randint(1,10,    (4,5))\n",
    "print(a)\n",
    "print(a.reshape(20))\n",
    "print(a.reshape(4,5))\n",
    "print(a.reshape(2,2,5))\n",
    "print(a.reshape(2,5,2))\n"
   ]
  },
  {
   "cell_type": "code",
   "execution_count": 27,
   "metadata": {},
   "outputs": [
    {
     "name": "stdout",
     "output_type": "stream",
     "text": [
      "[[1 2]\n",
      " [3 4]]\n",
      "[[3 5]\n",
      " [4 6]]\n"
     ]
    },
    {
     "data": {
      "text/plain": [
       "array([[ 4,  7],\n",
       "       [ 7, 10]])"
      ]
     },
     "execution_count": 27,
     "metadata": {},
     "output_type": "execute_result"
    }
   ],
   "source": [
    "a = np.array([[1,2],[3,4]])\n",
    "b = np.array([[3,5],[4,6]])\n",
    "print(a)\n",
    "print(b)\n"
   ]
  },
  {
   "cell_type": "code",
   "execution_count": null,
   "metadata": {},
   "outputs": [],
   "source": [
    "# When using 2 matrix, the shape must be the same\n",
    "print(a+b)\n",
    "print(a-b)\n",
    "print(a/b)  # element wise division\n",
    "print(a*b)  # element wise multiplication\n",
    "print(a@b)  #matrix multiplication\n",
    "print(a.dot(b)) #matrix multiplication"
   ]
  },
  {
   "cell_type": "code",
   "execution_count": null,
   "metadata": {},
   "outputs": [],
   "source": [
    "# When using matrix and scalar\n",
    "print(a-10) #broadcasting\n",
    "print(a*10) #broadcasting\n",
    "print(a/10) #broadcasting\n",
    "print(a+10) #broadcasting\n"
   ]
  },
  {
   "cell_type": "code",
   "execution_count": 28,
   "metadata": {},
   "outputs": [
    {
     "name": "stdout",
     "output_type": "stream",
     "text": [
      "1\n",
      "4\n"
     ]
    }
   ],
   "source": [
    "#Indexing\n",
    "print(a[0,0])\n",
    "print(a[-1,-1])\n"
   ]
  },
  {
   "cell_type": "code",
   "execution_count": 29,
   "metadata": {},
   "outputs": [
    {
     "name": "stdout",
     "output_type": "stream",
     "text": [
      "[[3 4 5 5 4]\n",
      " [2 7 6 8 7]\n",
      " [8 1 1 7 3]\n",
      " [4 4 1 3 3]\n",
      " [8 2 3 8 6]]\n"
     ]
    }
   ],
   "source": [
    "#Slicing\n",
    "\n",
    "x = np.random.randint(1,10 , (5,5))\n",
    "print(x)"
   ]
  },
  {
   "cell_type": "markdown",
   "metadata": {},
   "source": [
    "SYNTAX \n",
    " - array[rowstart:rowstop:rowgap, coloumnstart:coloumnstop:coloumngap]"
   ]
  },
  {
   "cell_type": "code",
   "execution_count": 32,
   "metadata": {},
   "outputs": [
    {
     "name": "stdout",
     "output_type": "stream",
     "text": [
      "[[2 7 4 8 5]\n",
      " [7 8 2 7 5]\n",
      " [5 6 2 6 2]\n",
      " [6 9 1 6 3]\n",
      " [3 1 5 1 6]]\n",
      "- first coloumn\n",
      "[2 7 5 6 3]\n",
      "- last coloumn\n",
      "[5 5 2 3 6]\n",
      "- first three coloumn\n",
      "[[2 7 4]\n",
      " [7 8 2]\n",
      " [5 6 2]\n",
      " [6 9 1]\n",
      " [3 1 5]]\n"
     ]
    }
   ],
   "source": [
    "x = np.random.randint(1,10 , (5,5))\n",
    "print(x)\n",
    "print('- first coloumn')\n",
    "print(x[:,0])  # first coloumn\n",
    "print('- last coloumn')\n",
    "print(x[:,-1]) # last coloumn\n",
    "print('- first three coloumn')\n",
    "print(x[:,:3]) #first 3 coloumn"
   ]
  }
 ],
 "metadata": {
  "kernelspec": {
   "display_name": "Python 3",
   "language": "python",
   "name": "python3"
  },
  "language_info": {
   "codemirror_mode": {
    "name": "ipython",
    "version": 3
   },
   "file_extension": ".py",
   "mimetype": "text/x-python",
   "name": "python",
   "nbconvert_exporter": "python",
   "pygments_lexer": "ipython3",
   "version": "3.10.7"
  }
 },
 "nbformat": 4,
 "nbformat_minor": 2
}
