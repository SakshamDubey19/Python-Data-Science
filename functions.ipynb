{
 "cells": [
  {
   "cell_type": "markdown",
   "metadata": {},
   "source": [
    "- Function"
   ]
  },
  {
   "cell_type": "code",
   "execution_count": 2,
   "metadata": {},
   "outputs": [
    {
     "name": "stdout",
     "output_type": "stream",
     "text": [
      "50\n",
      "12.5\n",
      "1\n",
      "3\n"
     ]
    }
   ],
   "source": [
    "def stats(*numbers, action='sum'):\n",
    "    if action == 'sum':\n",
    "        return sum(numbers)\n",
    "    if action == 'mean':\n",
    "        return sum(numbers)/len(numbers)\n",
    "    if action == 'min':\n",
    "        return min(numbers)\n",
    "    if action == 'count':\n",
    "        return len(numbers)\n",
    "print(stats(11,12,13,14))\n",
    "print(stats(11,12,13,14, action='mean'))\n",
    "print(stats(1,2,3,4,5,6, action='min'))\n",
    "print(stats(11,12,13, action='count'))"
   ]
  },
  {
   "cell_type": "code",
   "execution_count": 3,
   "metadata": {},
   "outputs": [
    {
     "name": "stdout",
     "output_type": "stream",
     "text": [
      "hello\n",
      "world\n",
      "None\n"
     ]
    }
   ],
   "source": [
    "# any function that is not returning anything is returning None\n",
    "def greeting():\n",
    "    print('hello')\n",
    "    print('world')\n",
    "print(greeting())"
   ]
  },
  {
   "cell_type": "code",
   "execution_count": 4,
   "metadata": {},
   "outputs": [
    {
     "name": "stdout",
     "output_type": "stream",
     "text": [
      "[1, 4, 9, 16, 25]\n",
      "[1, 8, 27, 64, 125]\n"
     ]
    }
   ],
   "source": [
    "# Higher order function\n",
    "def apply(func , data):\n",
    "    return [func(x) for x in data]\n",
    "\n",
    "def square(x):\n",
    "    return x**2\n",
    "\n",
    "def cube(x):\n",
    "    return x**3\n",
    "\n",
    "# implement a function that takes a list of numbers and a function\n",
    "\n",
    "ans = apply(square, [1,2,3,4,5])\n",
    "print(ans)\n",
    "ans = apply(cube, [1,2,3,4,5])\n",
    "print(ans)"
   ]
  },
  {
   "cell_type": "markdown",
   "metadata": {},
   "source": [
    "- Lambda function"
   ]
  },
  {
   "cell_type": "markdown",
   "metadata": {},
   "source": [
    "`f(x) = x**2 +10`\n",
    "`g(x,y)= x*2 + y*2 - x+y`"
   ]
  },
  {
   "cell_type": "code",
   "execution_count": 5,
   "metadata": {},
   "outputs": [
    {
     "name": "stdout",
     "output_type": "stream",
     "text": [
      "<function <lambda> at 0x000001C74CBC2200>\n",
      "14\n",
      "26\n",
      "586\n"
     ]
    }
   ],
   "source": [
    "f = lambda x: x**2 +10\n",
    "print(f)\n",
    "print(f(2))\n",
    "print(f(4))\n",
    "print(f(24))"
   ]
  },
  {
   "cell_type": "code",
   "execution_count": 7,
   "metadata": {},
   "outputs": [
    {
     "name": "stdout",
     "output_type": "stream",
     "text": [
      "11\n",
      "15\n",
      "26\n"
     ]
    }
   ],
   "source": [
    "g = lambda x,y: x*2+ y*2 - x + y\n",
    "print(g(2,3))\n",
    "print(g(3,4))\n",
    "print(g(5,7))"
   ]
  },
  {
   "cell_type": "markdown",
   "metadata": {},
   "source": [
    "- map and filter using lambda"
   ]
  },
  {
   "cell_type": "code",
   "execution_count": 5,
   "metadata": {},
   "outputs": [
    {
     "name": "stdout",
     "output_type": "stream",
     "text": [
      "[1, 8, 27, 64, 125]\n",
      "[1, 8, 27, 64, 125]\n",
      "[1, 8, 27, 64, 125]\n",
      "(1, 8, 27, 64, 125)\n",
      "{64, 1, 8, 27, 125}\n"
     ]
    }
   ],
   "source": [
    "x = [1,2,3,4,5]\n",
    "\n",
    "# style 1  (loop)\n",
    "x3 = []\n",
    "for i in x:\n",
    "    x3.append(i**3)\n",
    "print(x3)\n",
    "\n",
    "# style 2 - (comprehension)\n",
    "x3 = [i**3 for i in x]\n",
    "print(x3)\n",
    "\n",
    "#style 3 - (map with lambda)\n",
    "\n",
    "x3 = list(map(lambda i:i**3,x))\n",
    "print(x3)\n",
    "x3 = tuple(map(lambda i:i**3,x))\n",
    "print(x3)\n",
    "x3 = set(map(lambda i:i**3,x))\n",
    "\n",
    "print(x3)"
   ]
  },
  {
   "cell_type": "markdown",
   "metadata": {},
   "source": [
    "- Filter operation"
   ]
  },
  {
   "cell_type": "code",
   "execution_count": 6,
   "metadata": {},
   "outputs": [
    {
     "name": "stdout",
     "output_type": "stream",
     "text": [
      "[1, 2, 3, 4, 3, 4, 2]\n"
     ]
    }
   ],
   "source": [
    "x = [1,2,'a',3,'f',4,'d','g',3,4,2]\n",
    "nums = filter(lambda i :isinstance(i,int), x)\n",
    "nums = list(nums)   # set(nums) or tuple(nums)\n",
    "print(nums)"
   ]
  }
 ],
 "metadata": {
  "kernelspec": {
   "display_name": "Python 3",
   "language": "python",
   "name": "python3"
  },
  "language_info": {
   "codemirror_mode": {
    "name": "ipython",
    "version": 3
   },
   "file_extension": ".py",
   "mimetype": "text/x-python",
   "name": "python",
   "nbconvert_exporter": "python",
   "pygments_lexer": "ipython3",
   "version": "3.10.7"
  }
 },
 "nbformat": 4,
 "nbformat_minor": 2
}
