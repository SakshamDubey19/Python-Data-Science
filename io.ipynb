{
 "cells": [
  {
   "cell_type": "code",
   "execution_count": 1,
   "metadata": {},
   "outputs": [
    {
     "data": {
      "text/plain": [
       "'hgjgk'"
      ]
     },
     "execution_count": 1,
     "metadata": {},
     "output_type": "execute_result"
    }
   ],
   "source": [
    "input()\n",
    "\n"
   ]
  },
  {
   "cell_type": "code",
   "execution_count": 2,
   "metadata": {},
   "outputs": [
    {
     "data": {
      "text/plain": [
       "'saksham'"
      ]
     },
     "execution_count": 2,
     "metadata": {},
     "output_type": "execute_result"
    }
   ],
   "source": [
    "input('Enter your name')"
   ]
  },
  {
   "cell_type": "code",
   "execution_count": 9,
   "metadata": {},
   "outputs": [
    {
     "data": {
      "text/plain": [
       "str"
      ]
     },
     "execution_count": 9,
     "metadata": {},
     "output_type": "execute_result"
    }
   ],
   "source": [
    "name= input('Enter your name:')\n",
    "city= input('enter your city:')\n",
    "color= input('enter your favorite color:')\n",
    "luckynum= input(enter your lucky number:)\n",
    "type(luckynum)"
   ]
  },
  {
   "cell_type": "code",
   "execution_count": null,
   "metadata": {},
   "outputs": [],
   "source": []
  },
  {
   "cell_type": "markdown",
   "metadata": {},
   "source": [
    "Typecasting\n",
    "\n",
    "from one datatype => another\n",
    "str => int(variable) => int"
   ]
  },
  {
   "cell_type": "code",
   "execution_count": 11,
   "metadata": {},
   "outputs": [
    {
     "name": "stdout",
     "output_type": "stream",
     "text": [
      "<class 'int'>\n"
     ]
    }
   ],
   "source": [
    "a=10\n",
    "b='12'\n",
    "c='12.3'\n",
    "d=10.3\n",
    "print(type(a))"
   ]
  },
  {
   "cell_type": "code",
   "execution_count": 12,
   "metadata": {},
   "outputs": [
    {
     "name": "stdout",
     "output_type": "stream",
     "text": [
      "46\n"
     ]
    }
   ],
   "source": [
    "a=input('enter a number')\n",
    "b=input('enter a number')\n",
    "c=int(a)+int(b)\n",
    "print(c)\n"
   ]
  },
  {
   "cell_type": "code",
   "execution_count": 14,
   "metadata": {},
   "outputs": [
    {
     "name": "stdout",
     "output_type": "stream",
     "text": [
      "8434.8\n"
     ]
    }
   ],
   "source": [
    "principle=int(input('enter principle:'))\n",
    "rate=int(input('enter the rate:'))\n",
    "time=int(input('enter Rate:'))\n",
    "Si=principle*rate*time/100\n",
    "print(Si)"
   ]
  },
  {
   "cell_type": "code",
   "execution_count": 16,
   "metadata": {},
   "outputs": [
    {
     "name": "stdout",
     "output_type": "stream",
     "text": [
      "Simple interest calculator\n",
      "principle: 12000\n",
      "rate 20\n",
      "time 10\n",
      "--------------------\n",
      "simple interest: 24000.0\n"
     ]
    }
   ],
   "source": [
    "p=int(input('enter principle:'))\n",
    "r=int(input('enter the rate:'))\n",
    "t=int(input('enter Rate:'))\n",
    "Si=p*r*t/100\n",
    "print('Simple interest calculator')\n",
    "print('principle:',p)\n",
    "print('rate',r)\n",
    "print('time',t)\n",
    "print('-'*20)\n",
    "print('simple interest:',Si)"
   ]
  },
  {
   "cell_type": "code",
   "execution_count": 20,
   "metadata": {},
   "outputs": [
    {
     "name": "stdout",
     "output_type": "stream",
     "text": [
      "Simple interest calculator\n",
      "principle: 12000 Rs\n",
      "rate: 20 %\n",
      "time 30 Yrs\n",
      "--------------------\n",
      "simple interest: 72000.0\n"
     ]
    }
   ],
   "source": [
    "p=int(input('enter principle:'))\n",
    "r=int(input('enter the rate:'))\n",
    "t=int(input('enter Rate:'))\n",
    "Si=p*r*t/100\n",
    "print('Simple interest calculator')\n",
    "print('principle:',p,'Rs')\n",
    "print('rate:',r,'%')\n",
    "print('time',t,'Yrs')\n",
    "print('-'*20)\n",
    "print('simple interest:',Si)"
   ]
  },
  {
   "cell_type": "markdown",
   "metadata": {},
   "source": [
    "String Interpolation in string for formatted output\n",
    "\n"
   ]
  },
  {
   "cell_type": "code",
   "execution_count": 2,
   "metadata": {},
   "outputs": [
    {
     "name": "stdout",
     "output_type": "stream",
     "text": [
      "3\n",
      "3.3\n",
      "3.33\n",
      "3.333\n"
     ]
    }
   ],
   "source": [
    "# round function should be used with expression\n",
    "print(round(10/3))\n",
    "print(round(10/3, 1))\n",
    "print(round(10/3, 2))\n",
    "print(round(10/3, 3))"
   ]
  },
  {
   "cell_type": "code",
   "execution_count": 5,
   "metadata": {},
   "outputs": [
    {
     "name": "stdout",
     "output_type": "stream",
     "text": [
      "10is divided by 7 is1.4285714285714286\n",
      "10is divided by 7 is 1.4\n",
      "10is divided by 7 is 1.43\n",
      "10is divided by 7 is 1.429\n"
     ]
    }
   ],
   "source": [
    "# Displaying decimal places\n",
    "a=10\n",
    "b=7\n",
    "c=a/b\n",
    "print(f'{a}is divided by {b} is{c}')\n",
    "print(f'{a}is divided by {b} is{c: .1f}')\n",
    "print(f'{a}is divided by {b} is{c: .2f}')\n",
    "print(f'{a}is divided by {b} is{c: .3f}')"
   ]
  },
  {
   "cell_type": "code",
   "execution_count": 11,
   "metadata": {},
   "outputs": [
    {
     "name": "stdout",
     "output_type": "stream",
     "text": [
      "                        the final empire |  brandon sanderson   | 499\n",
      "                          the are of war |       sun tzu        | 239\n",
      "   Stormlight Archives: The way of kings |   brand sanderson    | 239\n"
     ]
    }
   ],
   "source": [
    "# Txt allignment\n",
    "\n",
    "n1='the final empire'\n",
    "a1= 'brandon sanderson'\n",
    "p1=499\n",
    "n2='the are of war'\n",
    "a2='sun tzu'\n",
    "p2=239\n",
    "n3='Stormlight Archives: The way of kings'\n",
    "a3='brand sanderson'\n",
    "p3=239\n",
    "print(f'{n1:>40} | {a1:^20} | {p1}')\n",
    "print(f'{n2:>40} | {a2:^20} | {p2}')\n",
    "print(f'{n3:>40} | {a3:^20} | {p3}')"
   ]
  }
 ],
 "metadata": {
  "kernelspec": {
   "display_name": "Python 3",
   "language": "python",
   "name": "python3"
  },
  "language_info": {
   "codemirror_mode": {
    "name": "ipython",
    "version": 3
   },
   "file_extension": ".py",
   "mimetype": "text/x-python",
   "name": "python",
   "nbconvert_exporter": "python",
   "pygments_lexer": "ipython3",
   "version": "3.10.7"
  }
 },
 "nbformat": 4,
 "nbformat_minor": 2
}
