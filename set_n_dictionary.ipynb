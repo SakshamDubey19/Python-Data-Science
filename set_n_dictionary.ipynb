{
 "cells": [
  {
   "cell_type": "markdown",
   "metadata": {},
   "source": [
    "# Set\n",
    " - create\n",
    " - method"
   ]
  },
  {
   "cell_type": "code",
   "execution_count": 13,
   "metadata": {},
   "outputs": [
    {
     "name": "stdout",
     "output_type": "stream",
     "text": [
      "set()\n",
      "{1, 2, 3, 4, 5, 6}\n",
      "{'banana', 'apple', 'cherry'}\n",
      "{203, 'banana', 'apple', 475}\n",
      "{1, 2, 3, 4, 5, 6, 7, 8, 9, 10}\n",
      "{' ', 'r', 't', 'o', 'y', 'a', 'p', 'h', 'e'}\n"
     ]
    }
   ],
   "source": [
    "x = set() #empty\n",
    "print(x)\n",
    "y = {1,2,3,4,5,6,1,2}\n",
    "print(y)\n",
    "fruits = {'apple','banana','cherry'}\n",
    "print(fruits)\n",
    "data = {'apple',203,'banana',475}\n",
    "print(data)\n",
    "a = set([1,2,3,4,5,6,7,8,9,10])\n",
    "b = set('harry potter')\n",
    "print(a)\n",
    "print(b)"
   ]
  },
  {
   "cell_type": "code",
   "execution_count": 14,
   "metadata": {},
   "outputs": [
    {
     "name": "stdout",
     "output_type": "stream",
     "text": [
      "{'grihkv', 'saksham', 'deva'}\n"
     ]
    }
   ],
   "source": [
    "a=set()\n",
    "a.add('saksham')\n",
    "a.add('deva')\n",
    "a.add('grihkv')\n",
    "print(a)"
   ]
  },
  {
   "cell_type": "code",
   "execution_count": 15,
   "metadata": {},
   "outputs": [
    {
     "name": "stdout",
     "output_type": "stream",
     "text": [
      "{'yuvraj', 'grihkv', 'saksham', 'aditi', 'dev', 'deva', 'rohan'}\n"
     ]
    }
   ],
   "source": [
    "a.update(['rohan','yuvraj','aditi','dev'])\n",
    "print(a)"
   ]
  },
  {
   "cell_type": "code",
   "execution_count": 16,
   "metadata": {},
   "outputs": [
    {
     "name": "stdout",
     "output_type": "stream",
     "text": [
      "{'yuvraj', 'grihkv', 'saksham', 'aditi', 'dev', 'deva', 'rohan'}\n"
     ]
    }
   ],
   "source": [
    "a.add('dev')  #not added\n",
    "print(a) # no duplicates\n"
   ]
  },
  {
   "cell_type": "code",
   "execution_count": 17,
   "metadata": {},
   "outputs": [
    {
     "name": "stdout",
     "output_type": "stream",
     "text": [
      "{1, 2, 3, 4, 5}\n",
      "{1, 2, 3, 4, 5, 6, 7, 8}\n",
      "{1, 2, 3, 4, 5, 6, 7, 8}\n",
      "{3}\n",
      "{3}\n",
      "set()\n",
      "set()\n"
     ]
    }
   ],
   "source": [
    "a = {1,2,3}\n",
    "b = {3,4,5}\n",
    "c = {6,7,8}\n",
    "print(a.union(b))\n",
    "print(a.union(b,c))\n",
    "print(a|b|c)  #  | is union\n",
    "print(a.intersection(b))\n",
    "print(a&b) # & is intersection\n",
    "print(a&c)\n",
    "print(a&b&c)"
   ]
  },
  {
   "cell_type": "code",
   "execution_count": null,
   "metadata": {},
   "outputs": [],
   "source": [
    "print(a.difference(b))\n",
    "print(b.difference(a))\n",
    "print(a-b)  # -  is "
   ]
  }
 ],
 "metadata": {
  "kernelspec": {
   "display_name": "Python 3",
   "language": "python",
   "name": "python3"
  },
  "language_info": {
   "codemirror_mode": {
    "name": "ipython",
    "version": 3
   },
   "file_extension": ".py",
   "mimetype": "text/x-python",
   "name": "python",
   "nbconvert_exporter": "python",
   "pygments_lexer": "ipython3",
   "version": "3.10.7"
  }
 },
 "nbformat": 4,
 "nbformat_minor": 2
}
