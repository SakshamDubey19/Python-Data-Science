{
 "cells": [
  {
   "cell_type": "markdown",
   "metadata": {},
   "source": [
    "# Set\n",
    " - create\n",
    " - method"
   ]
  },
  {
   "cell_type": "code",
   "execution_count": 13,
   "metadata": {},
   "outputs": [
    {
     "name": "stdout",
     "output_type": "stream",
     "text": [
      "set()\n",
      "{1, 2, 3, 4, 5, 6}\n",
      "{'banana', 'apple', 'cherry'}\n",
      "{203, 'banana', 'apple', 475}\n",
      "{1, 2, 3, 4, 5, 6, 7, 8, 9, 10}\n",
      "{' ', 'r', 't', 'o', 'y', 'a', 'p', 'h', 'e'}\n"
     ]
    }
   ],
   "source": [
    "x = set() #empty\n",
    "print(x)\n",
    "y = {1,2,3,4,5,6,1,2}\n",
    "print(y)\n",
    "fruits = {'apple','banana','cherry'}\n",
    "print(fruits)\n",
    "data = {'apple',203,'banana',475}\n",
    "print(data)\n",
    "a = set([1,2,3,4,5,6,7,8,9,10])\n",
    "b = set('harry potter')\n",
    "print(a)\n",
    "print(b)"
   ]
  },
  {
   "cell_type": "code",
   "execution_count": 14,
   "metadata": {},
   "outputs": [
    {
     "name": "stdout",
     "output_type": "stream",
     "text": [
      "{'grihkv', 'saksham', 'deva'}\n"
     ]
    }
   ],
   "source": [
    "a=set()\n",
    "a.add('saksham')\n",
    "a.add('deva')\n",
    "a.add('grihkv')\n",
    "print(a)"
   ]
  },
  {
   "cell_type": "code",
   "execution_count": 15,
   "metadata": {},
   "outputs": [
    {
     "name": "stdout",
     "output_type": "stream",
     "text": [
      "{'yuvraj', 'grihkv', 'saksham', 'aditi', 'dev', 'deva', 'rohan'}\n"
     ]
    }
   ],
   "source": [
    "a.update(['rohan','yuvraj','aditi','dev'])\n",
    "print(a)"
   ]
  },
  {
   "cell_type": "code",
   "execution_count": 16,
   "metadata": {},
   "outputs": [
    {
     "name": "stdout",
     "output_type": "stream",
     "text": [
      "{'yuvraj', 'grihkv', 'saksham', 'aditi', 'dev', 'deva', 'rohan'}\n"
     ]
    }
   ],
   "source": [
    "a.add('dev')  #not added\n",
    "print(a) # no duplicates\n"
   ]
  },
  {
   "cell_type": "code",
   "execution_count": 17,
   "metadata": {},
   "outputs": [
    {
     "name": "stdout",
     "output_type": "stream",
     "text": [
      "{1, 2, 3, 4, 5}\n",
      "{1, 2, 3, 4, 5, 6, 7, 8}\n",
      "{1, 2, 3, 4, 5, 6, 7, 8}\n",
      "{3}\n",
      "{3}\n",
      "set()\n",
      "set()\n"
     ]
    }
   ],
   "source": [
    "a = {1,2,3}\n",
    "b = {3,4,5}\n",
    "c = {6,7,8}\n",
    "print(a.union(b))\n",
    "print(a.union(b,c))\n",
    "print(a|b|c)  #  | is union\n",
    "print(a.intersection(b))\n",
    "print(a&b) # & is intersection\n",
    "print(a&c)\n",
    "print(a&b&c)"
   ]
  },
  {
   "cell_type": "code",
   "execution_count": null,
   "metadata": {},
   "outputs": [],
   "source": [
    "print(a.difference(b))\n",
    "print(b.difference(a))\n",
    "print(a-b)  # -  is difference\n",
    "print(a.symmetric_difference(b))\n",
    "print(a^b) #  ^ is symmetric difference\n"
   ]
  },
  {
   "cell_type": "markdown",
   "metadata": {},
   "source": [
    "- Dictionary\n",
    " "
   ]
  },
  {
   "cell_type": "code",
   "execution_count": 1,
   "metadata": {},
   "outputs": [
    {
     "name": "stdout",
     "output_type": "stream",
     "text": [
      "{'name': 'alex', 'isMarried': 'True', 'hasChildren': 'False', 'age': 29, 'city': 'new york', 'profession': 'photographer'}\n",
      "{'food': 500, 'rent': 1700, 'insurance': 200}\n"
     ]
    }
   ],
   "source": [
    "data = ['alex',True,False,'new york','photographer']\n",
    "datadict = {\n",
    "    'name': 'alex',\n",
    "    'isMarried': 'True',\n",
    "    'hasChildren':'False',\n",
    "    'age': 29,\n",
    "    'city': 'new york',\n",
    "    'profession': 'photographer'\n",
    "}\n",
    "\n",
    "movies = {}  # empty dictionary\n",
    "expenditure = dict(\n",
    "    food = 500,\n",
    "    rent  = 1700,\n",
    "    insurance = 200\n",
    ")\n",
    "\n",
    "print(datadict)\n",
    "print(expenditure)"
   ]
  },
  {
   "cell_type": "markdown",
   "metadata": {},
   "source": [
    "- creating\n",
    "- accessing\n",
    "- add or update\n",
    "- remove\n",
    "- traversal"
   ]
  },
  {
   "cell_type": "code",
   "execution_count": 6,
   "metadata": {},
   "outputs": [
    {
     "name": "stdout",
     "output_type": "stream",
     "text": [
      "alex\n",
      "True\n",
      "new york\n"
     ]
    }
   ],
   "source": [
    "print(datadict['name'])\n",
    "print(datadict['isMarried'])\n",
    "print(datadict['city'])\n",
    "#print(datadict['state'])"
   ]
  },
  {
   "cell_type": "code",
   "execution_count": 7,
   "metadata": {},
   "outputs": [
    {
     "name": "stdout",
     "output_type": "stream",
     "text": [
      "new york\n",
      "None\n",
      "29\n",
      "100\n"
     ]
    }
   ],
   "source": [
    "print(datadict.get('city'))\n",
    "print(datadict.get('City'))    # City is not in the dictionary\n",
    "print(datadict.get('age'))\n",
    "print(datadict.get('AGE',100))  # AGE is not in the dictionary"
   ]
  },
  {
   "cell_type": "code",
   "execution_count": 8,
   "metadata": {},
   "outputs": [
    {
     "name": "stdout",
     "output_type": "stream",
     "text": [
      "{'deadpool & wolverine': 'shawn levy', 'bahubali': 'ss rajamauli', 'inception': 'christopher nolan'}\n"
     ]
    }
   ],
   "source": [
    "movies['deadpool & wolverine'] = 'shawn levy'\n",
    "movies['bahubali'] = 'ss rajamauli'\n",
    "movies['inception'] = 'christopher nolan'\n",
    "print(movies)"
   ]
  },
  {
   "cell_type": "code",
   "execution_count": 11,
   "metadata": {},
   "outputs": [
    {
     "data": {
      "text/plain": [
       "6"
      ]
     },
     "execution_count": 11,
     "metadata": {},
     "output_type": "execute_result"
    }
   ],
   "source": [
    "movies.update(\n",
    "    {\n",
    "        'the dark knight': 'christopher nolan',\n",
    "        'the prestige': 'christopher nolan',\n",
    "        'the matrix': 'wachowski brothers',\n",
    "    }\n",
    ")\n",
    "print(movies)"
   ]
  },
  {
   "cell_type": "code",
   "execution_count": 12,
   "metadata": {},
   "outputs": [
    {
     "data": {
      "text/plain": [
       "'ss rajamauli'"
      ]
     },
     "execution_count": 12,
     "metadata": {},
     "output_type": "execute_result"
    }
   ],
   "source": [
    "movies.pop('bahubali')"
   ]
  },
  {
   "cell_type": "code",
   "execution_count": 13,
   "metadata": {},
   "outputs": [
    {
     "data": {
      "text/plain": [
       "{'deadpool & wolverine': 'shawn levy',\n",
       " 'inception': 'christopher nolan',\n",
       " 'the dark knight': 'christopher nolan',\n",
       " 'the prestige': 'christopher nolan',\n",
       " 'the matrix': 'wachowski brothers'}"
      ]
     },
     "execution_count": 13,
     "metadata": {},
     "output_type": "execute_result"
    }
   ],
   "source": [
    "movies"
   ]
  },
  {
   "cell_type": "markdown",
   "metadata": {},
   "source": [
    "- for loop in dict will iterate over keys"
   ]
  },
  {
   "cell_type": "code",
   "execution_count": 14,
   "metadata": {},
   "outputs": [
    {
     "name": "stdout",
     "output_type": "stream",
     "text": [
      "name\n",
      "isMarried\n",
      "hasChildren\n",
      "age\n",
      "city\n",
      "profession\n"
     ]
    }
   ],
   "source": [
    "for item in datadict:\n",
    "    print(item)"
   ]
  },
  {
   "cell_type": "code",
   "execution_count": 15,
   "metadata": {},
   "outputs": [
    {
     "name": "stdout",
     "output_type": "stream",
     "text": [
      "alex\n",
      "True\n",
      "False\n",
      "29\n",
      "new york\n",
      "photographer\n"
     ]
    }
   ],
   "source": [
    "for item in datadict:\n",
    "    print(datadict[item])"
   ]
  },
  {
   "cell_type": "code",
   "execution_count": 16,
   "metadata": {},
   "outputs": [
    {
     "name": "stdout",
     "output_type": "stream",
     "text": [
      "name : alex\n",
      "isMarried : True\n",
      "hasChildren : False\n",
      "age : 29\n",
      "city : new york\n",
      "profession : photographer\n"
     ]
    }
   ],
   "source": [
    "for k,v in datadict.items():\n",
    "    print(k,':',v)"
   ]
  },
  {
   "cell_type": "markdown",
   "metadata": {},
   "source": [
    "- Nested dictionary"
   ]
  },
  {
   "cell_type": "code",
   "execution_count": 17,
   "metadata": {},
   "outputs": [
    {
     "name": "stdout",
     "output_type": "stream",
     "text": [
      "{'01': {'name': 'alex', 'subject': {'maths': 90, 'science': 80, 'english': 70}}, '02': {'name': 'john', 'subjects': {'maths': 80, 'science': 70, 'english': 56}}}\n"
     ]
    }
   ],
   "source": [
    "report = {\n",
    "    '01': {\n",
    "        'name' : 'alex',\n",
    "        'subject': {\n",
    "            'maths': 90,\n",
    "            'science': 80,\n",
    "            'english': 70\n",
    "        }\n",
    "    },\n",
    "    '02': {\n",
    "        'name': 'john',\n",
    "        'subjects':{\n",
    "            'maths':80,\n",
    "            'science':70,\n",
    "            'english':56\n",
    "        }\n",
    "    },\n",
    "}\n",
    "print(report)"
   ]
  },
  {
   "cell_type": "markdown",
   "metadata": {},
   "source": [
    "- To print output in paragrapgh"
   ]
  },
  {
   "cell_type": "code",
   "execution_count": 18,
   "metadata": {},
   "outputs": [
    {
     "name": "stdout",
     "output_type": "stream",
     "text": [
      "{'01': {'name': 'alex', 'subject': {'maths': 90, 'science': 80, 'english': 70}},\n",
      " '02': {'name': 'john',\n",
      "        'subjects': {'maths': 80, 'science': 70, 'english': 56}}}\n"
     ]
    }
   ],
   "source": [
    "from pprint import pp\n",
    "pp(report)"
   ]
  },
  {
   "cell_type": "code",
   "execution_count": null,
   "metadata": {},
   "outputs": [],
   "source": []
  },
  {
   "cell_type": "markdown",
   "metadata": {},
   "source": []
  },
  {
   "cell_type": "code",
   "execution_count": null,
   "metadata": {},
   "outputs": [],
   "source": []
  }
 ],
 "metadata": {
  "kernelspec": {
   "display_name": "Python 3",
   "language": "python",
   "name": "python3"
  },
  "language_info": {
   "codemirror_mode": {
    "name": "ipython",
    "version": 3
   },
   "file_extension": ".py",
   "mimetype": "text/x-python",
   "name": "python",
   "nbconvert_exporter": "python",
   "pygments_lexer": "ipython3",
   "version": "3.10.7"
  }
 },
 "nbformat": 4,
 "nbformat_minor": 2
}
