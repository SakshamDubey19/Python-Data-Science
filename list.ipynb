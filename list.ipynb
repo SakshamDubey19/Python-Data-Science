{
 "cells": [
  {
   "cell_type": "code",
   "execution_count": 3,
   "metadata": {},
   "outputs": [
    {
     "name": "stdout",
     "output_type": "stream",
     "text": [
      "[1, 2, 3] <class 'list'>\n",
      "['saksham', 'dubey', 'rohan'] <class 'list'>\n",
      "['apple', 50, 'orange', 100, 'banana', 150]\n",
      "[[1, 2, 3], [4, 5, 6], [7, 8]]\n",
      "[1, 1, 1, 1, 1, 1, 1, 1, 1, 1]\n",
      "['v', 'e', 'r', 't', 'e', 'x']\n",
      "['welcome', 'to', 'listening']\n"
     ]
    }
   ],
   "source": [
    "a= [1,2,3]\n",
    "print(a,type(a))\n",
    "names = ['saksham','dubey','rohan']\n",
    "print(names,type(names))\n",
    "data = ['apple',50,'orange',100,'banana',150]\n",
    "nested_list = [[1,2,3],[4,5,6],[7,8]]\n",
    "print(data)\n",
    "print(nested_list)\n",
    "duplicated_list = [1]*10\n",
    "print(duplicated_list)\n",
    "print(list('vertex'))\n",
    "print('welcome to listening'.split())"
   ]
  },
  {
   "cell_type": "code",
   "execution_count": 5,
   "metadata": {},
   "outputs": [
    {
     "name": "stdout",
     "output_type": "stream",
     "text": [
      "first five = [11, 12, 13, 14, 15]\n",
      "last five = [16, 17, 18, 19, 20]\n",
      "first element =  20\n",
      "except first 2 and last 2 = [13, 14, 15, 16, 17, 18]\n",
      "reverse list = [20, 19, 18, 17, 16, 15, 14, 13, 12, 11]\n",
      "all even indexes =  [11, 13, 15, 17, 19]\n",
      "all odd indexes =  [12, 14, 16, 18, 20]\n"
     ]
    }
   ],
   "source": [
    "n = [11,12,13,14,15,16,17,18,19,20]\n",
    "print('first five =',n[:5])\n",
    "print('last five =',n[-5:])\n",
    "print('first element = ',n[-1])\n",
    "print('except first 2 and last 2 =',n[2:-2])\n",
    "print('reverse list =',n[::-1])\n",
    "print('all even indexes = ',n[::2])\n",
    "print('all odd indexes = ',n[1::2])\n",
    "\n"
   ]
  },
  {
   "cell_type": "code",
   "execution_count": 6,
   "metadata": {},
   "outputs": [
    {
     "data": {
      "text/plain": [
       "16"
      ]
     },
     "execution_count": 6,
     "metadata": {},
     "output_type": "execute_result"
    }
   ],
   "source": [
    "#list is mutable\n",
    "n[5] = 100 #update\n",
    "print(n)\n",
    "n[0] = 200\n",
    "print(n)"
   ]
  },
  {
   "cell_type": "code",
   "execution_count": 7,
   "metadata": {},
   "outputs": [
    {
     "name": "stdout",
     "output_type": "stream",
     "text": [
      "['guava', 'apple', 'banana']\n",
      "['guava', 'cherry', 'banana']\n"
     ]
    }
   ],
   "source": [
    "fruits = ['orange','apple','banana']\n",
    "fruits[0] = 'guava'\n",
    "print(fruits)\n",
    "fruits[1] = 'cherry'\n",
    "print(fruits)"
   ]
  },
  {
   "cell_type": "markdown",
   "metadata": {},
   "source": [
    "- FUNCTION\n",
    "    - append\n",
    "    - extend\n",
    "    - insert"
   ]
  },
  {
   "cell_type": "code",
   "execution_count": 10,
   "metadata": {},
   "outputs": [
    {
     "name": "stdout",
     "output_type": "stream",
     "text": [
      "<class 'list'>\n",
      "0\n",
      "['dangal', 'krish', 'dhoom', 'jumanji', 'robot']\n",
      "5\n"
     ]
    }
   ],
   "source": [
    "movies = []\n",
    "print(type(movies))\n",
    "print(len(movies))\n",
    "movies.append('dangal')\n",
    "movies.append('krish')\n",
    "movies.append('dhoom')\n",
    "movies.append('jumanji')\n",
    "movies.append('robot')\n",
    "print(movies)\n",
    "print(len(movies))"
   ]
  },
  {
   "cell_type": "code",
   "execution_count": 12,
   "metadata": {},
   "outputs": [
    {
     "name": "stdout",
     "output_type": "stream",
     "text": [
      "['mirzapurS1', 'mirzapurS2', 'mirzapur S3', 'mirzapurS4', 'mirzapurS5']\n",
      "['mirzapurS1', 'mirzapurS2', 'mirzapur coming', 'mirzapur S3', 'mirzapurS4', 'mirzapurS5']\n"
     ]
    }
   ],
   "source": [
    "ff = ['mirzapurS1',\n",
    "      'mirzapurS2',\n",
    "      'mirzapur S3',\n",
    "      'mirzapurS4']\n",
    "ff.append('mirzapurS5')\n",
    "print(ff)\n",
    "ff.insert(2,'mirzapur coming')\n",
    "print(ff)\n"
   ]
  },
  {
   "cell_type": "code",
   "execution_count": 14,
   "metadata": {},
   "outputs": [
    {
     "name": "stdout",
     "output_type": "stream",
     "text": [
      "[1, 2, 3, 4, 4, 5, 6, 7, 8, 9]\n",
      "[1, 2, 3, 4, 5, 4, 5, 6, 7, 8, 9]\n",
      "[1, 2, 3, 4, 5, 4, 5, 6, 7, 8, 9, 5]\n"
     ]
    }
   ],
   "source": [
    "n = [1,2,3,4,5,6,7,8,9]\n",
    "n.insert(3,4)      # on 3rd index, insert value =4\n",
    "print(n)\n",
    "n.insert(4,5)\n",
    "print(n)\n",
    "n.insert(100,5)    # invalid index, so it will insert at the end\n",
    "print(n)\n"
   ]
  },
  {
   "cell_type": "code",
   "execution_count": 19,
   "metadata": {},
   "outputs": [
    {
     "name": "stdout",
     "output_type": "stream",
     "text": [
      "[1, 2, 3, 7, 8, 9]\n",
      "[4, 5, 6, 1, 2, 3, 7, 8, 9]\n",
      "[7, 8, 9, 34, 45, 4, 5, 6]\n"
     ]
    }
   ],
   "source": [
    "# adding list in a another list\n",
    "l1 = [1,2,3]\n",
    "l2 = [4,5,6]\n",
    "l3 = [7,8,9]\n",
    "l1.extend(l3)\n",
    "print(l1)\n",
    "l2.extend(l1)\n",
    "print(l2)\n",
    "l3.extend([34,45,4,5,6])\n",
    "print(l3)"
   ]
  }
 ],
 "metadata": {
  "kernelspec": {
   "display_name": "Python 3",
   "language": "python",
   "name": "python3"
  },
  "language_info": {
   "codemirror_mode": {
    "name": "ipython",
    "version": 3
   },
   "file_extension": ".py",
   "mimetype": "text/x-python",
   "name": "python",
   "nbconvert_exporter": "python",
   "pygments_lexer": "ipython3",
   "version": "3.10.7"
  }
 },
 "nbformat": 4,
 "nbformat_minor": 2
}
